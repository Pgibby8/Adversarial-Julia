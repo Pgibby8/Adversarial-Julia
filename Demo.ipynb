{
 "cells": [
  {
   "cell_type": "code",
   "execution_count": 12,
   "metadata": {},
   "outputs": [
    {
     "name": "stderr",
     "output_type": "stream",
     "text": [
      "WARNING: replacing module adv.\n"
     ]
    },
    {
     "data": {
      "text/plain": [
       "Main.adv"
      ]
     },
     "execution_count": 12,
     "metadata": {},
     "output_type": "execute_result"
    }
   ],
   "source": [
    "import Missings\n",
    "using CSV\n",
    "using Knet\n",
    "using Plots\n",
    "using Images, Colors\n",
    "using Statistics\n",
    "using StatsBase\n",
    "include(\"Adversarial.jl\")"
   ]
  },
  {
   "cell_type": "code",
   "execution_count": 2,
   "metadata": {},
   "outputs": [
    {
     "name": "stderr",
     "output_type": "stream",
     "text": [
      "┌ Info: Loading MNIST...\n",
      "└ @ Main C:\\Users\\PA27879\\.julia\\packages\\Knet\\3lzCR\\data\\mnist.jl:33\n"
     ]
    },
    {
     "data": {
      "text/plain": [
       "(Data(Float32[0.0 0.0 … 0.0 0.0; 0.0 0.0 … 0.0 0.0; … ; 0.0 0.0 … 0.0 0.0; 0.0 0.0 … 0.0 0.0], UInt8[0x05 0x0a … 0x06 0x08], 100, 60000, false, 1:60000, false, (784, Colon()), (60000,), Array{Float32,N} where N, Array{UInt8,1}), Data(Float32[0.0 0.0 … 0.0 0.0; 0.0 0.0 … 0.0 0.0; … ; 0.0 0.0 … 0.0 0.0; 0.0 0.0 … 0.0 0.0], UInt8[0x07 0x02 … 0x05 0x06], 100, 10000, false, 1:10000, false, (784, Colon()), (10000,), Array{Float32,N} where N, Array{UInt8,1}))"
      ]
     },
     "execution_count": 2,
     "metadata": {},
     "output_type": "execute_result"
    }
   ],
   "source": [
    "include(Knet.dir(\"data\",\"mnist.jl\"))\n",
    "xsize=784\n",
    "ysize=10\n",
    "train, test = mnistdata(xsize=(xsize,:))"
   ]
  },
  {
   "cell_type": "code",
   "execution_count": 3,
   "metadata": {},
   "outputs": [
    {
     "name": "stdout",
     "output_type": "stream",
     "text": [
      "adv.accuracy(model, test) = 0.1069\n",
      " 32.090261 seconds (21.53 M allocations: 26.527 GiB, 9.76% gc time)\n"
     ]
    },
    {
     "data": {
      "text/plain": [
       "0.9781"
      ]
     },
     "execution_count": 3,
     "metadata": {},
     "output_type": "execute_result"
    }
   ],
   "source": [
    "vals = (784, 64, 10)\n",
    "model = adv.MLP(vals...)\n",
    "@show adv.accuracy(model, test)\n",
    "@time adv.trainresults(model, train; pdrop=(0.2, 0.0))\n",
    "accuracy(model, test)"
   ]
  },
  {
   "cell_type": "code",
   "execution_count": 4,
   "metadata": {},
   "outputs": [],
   "source": [
    "examples = []\n",
    "for (x,y) in test\n",
    "    push!(examples, (x,y))\n",
    "end"
   ]
  },
  {
   "cell_type": "code",
   "execution_count": 5,
   "metadata": {},
   "outputs": [
    {
     "name": "stdout",
     "output_type": "stream",
     "text": [
      "The sample is a 7\n",
      "The model classifies it as a 10 with a distance of 4.526756266304277e-5 from the original\n"
     ]
    }
   ],
   "source": [
    "dist = adv.DSSIM\n",
    "g(x0, model, target) = adv.adv_iterative_gradient_sign(x0, model, target; ϵ=10, α=.01, dist=dist)\n",
    "example = examples[1]\n",
    "x0 = example[1][:, 1]\n",
    "y0 = example[2][1]\n",
    "println(\"The sample is a $y0\")\n",
    "target = 10\n",
    "\n",
    "x1 = g(x0, model, target)\n",
    "\n",
    "pred = adv.predict_class(model, x1)\n",
    "dist = dist(x1, x0)\n",
    "println(\"The model classifies it as a $pred with a distance of $dist from the original\")"
   ]
  },
  {
   "cell_type": "code",
   "execution_count": 6,
   "metadata": {},
   "outputs": [
    {
     "data": {
      "image/png": "[encoded data removed]",
      "text/plain": [
       "28×28 Array{Gray{Float32},2} with eltype Gray{Float32}:\n",
       " Gray{Float32}(0.0)  Gray{Float32}(0.0)  …  Gray{Float32}(0.0)\n",
       " Gray{Float32}(0.0)  Gray{Float32}(0.0)     Gray{Float32}(0.0)\n",
       " Gray{Float32}(0.0)  Gray{Float32}(0.0)     Gray{Float32}(0.0)\n",
       " Gray{Float32}(0.0)  Gray{Float32}(0.0)     Gray{Float32}(0.0)\n",
       " Gray{Float32}(0.0)  Gray{Float32}(0.0)     Gray{Float32}(0.0)\n",
       " Gray{Float32}(0.0)  Gray{Float32}(0.0)  …  Gray{Float32}(0.0)\n",
       " Gray{Float32}(0.0)  Gray{Float32}(0.0)     Gray{Float32}(0.0)\n",
       " Gray{Float32}(0.0)  Gray{Float32}(0.0)     Gray{Float32}(0.0)\n",
       " Gray{Float32}(0.0)  Gray{Float32}(0.0)     Gray{Float32}(0.0)\n",
       " Gray{Float32}(0.0)  Gray{Float32}(0.0)     Gray{Float32}(0.0)\n",
       " Gray{Float32}(0.0)  Gray{Float32}(0.0)  …  Gray{Float32}(0.0)\n",
       " Gray{Float32}(0.0)  Gray{Float32}(0.0)     Gray{Float32}(0.0)\n",
       " Gray{Float32}(0.0)  Gray{Float32}(0.0)     Gray{Float32}(0.0)\n",
       " ⋮                                       ⋱                    \n",
       " Gray{Float32}(0.0)  Gray{Float32}(0.0)     Gray{Float32}(0.0)\n",
       " Gray{Float32}(0.0)  Gray{Float32}(0.0)     Gray{Float32}(0.0)\n",
       " Gray{Float32}(0.0)  Gray{Float32}(0.0)     Gray{Float32}(0.0)\n",
       " Gray{Float32}(0.0)  Gray{Float32}(0.0)     Gray{Float32}(0.0)\n",
       " Gray{Float32}(0.0)  Gray{Float32}(0.0)  …  Gray{Float32}(0.0)\n",
       " Gray{Float32}(0.0)  Gray{Float32}(0.0)     Gray{Float32}(0.0)\n",
       " Gray{Float32}(0.0)  Gray{Float32}(0.0)     Gray{Float32}(0.0)\n",
       " Gray{Float32}(0.0)  Gray{Float32}(0.0)     Gray{Float32}(0.0)\n",
       " Gray{Float32}(0.0)  Gray{Float32}(0.0)     Gray{Float32}(0.0)\n",
       " Gray{Float32}(0.0)  Gray{Float32}(0.0)  …  Gray{Float32}(0.0)\n",
       " Gray{Float32}(0.0)  Gray{Float32}(0.0)     Gray{Float32}(0.0)\n",
       " Gray{Float32}(0.0)  Gray{Float32}(0.0)     Gray{Float32}(0.0)"
      ]
     },
     "execution_count": 6,
     "metadata": {},
     "output_type": "execute_result"
    }
   ],
   "source": [
    "L = Int(√(length(x1)))\n",
    "img1 = reshape(x0, (L,L))'\n",
    "Gray.(img1)"
   ]
  },
  {
   "cell_type": "code",
   "execution_count": 7,
   "metadata": {},
   "outputs": [
    {
     "data": {
      "image/png": "[encoded data removed]",
      "text/plain": [
       "28×28 Array{Gray{Float64},2} with eltype Gray{Float64}:\n",
       " Gray{Float64}(0.06)          …  Gray{Float64}(-0.08)       \n",
       " Gray{Float64}(-0.04)            Gray{Float64}(-0.08)       \n",
       " Gray{Float64}(-0.08)            Gray{Float64}(0.04)        \n",
       " Gray{Float64}(-0.06)            Gray{Float64}(-0.08)       \n",
       " Gray{Float64}(0.08)             Gray{Float64}(-0.06)       \n",
       " Gray{Float64}(0.08)          …  Gray{Float64}(0.08)        \n",
       " Gray{Float64}(-0.08)            Gray{Float64}(-0.08)       \n",
       " Gray{Float64}(0.08)             Gray{Float64}(0.08)        \n",
       " Gray{Float64}(0.08)             Gray{Float64}(0.08)        \n",
       " Gray{Float64}(0.04)             Gray{Float64}(-0.06)       \n",
       " Gray{Float64}(-0.02)         …  Gray{Float64}(-0.08)       \n",
       " Gray{Float64}(-0.06)            Gray{Float64}(-0.06)       \n",
       " Gray{Float64}(-0.06)            Gray{Float64}(-0.08)       \n",
       " ⋮                            ⋱                             \n",
       " Gray{Float64}(0.08)             Gray{Float64}(0.04)        \n",
       " Gray{Float64}(-0.08)            Gray{Float64}(-0.08)       \n",
       " Gray{Float64}(0.08)             Gray{Float64}(-3.46945e-18)\n",
       " Gray{Float64}(-0.08)            Gray{Float64}(-0.08)       \n",
       " Gray{Float64}(-0.08)         …  Gray{Float64}(0.0)         \n",
       " Gray{Float64}(-0.08)            Gray{Float64}(-0.08)       \n",
       " Gray{Float64}(-0.08)            Gray{Float64}(-0.08)       \n",
       " Gray{Float64}(-0.08)            Gray{Float64}(0.08)        \n",
       " Gray{Float64}(0.08)             Gray{Float64}(0.08)        \n",
       " Gray{Float64}(-0.08)         …  Gray{Float64}(-0.08)       \n",
       " Gray{Float64}(-3.46945e-18)     Gray{Float64}(3.46945e-18) \n",
       " Gray{Float64}(-0.02)            Gray{Float64}(0.08)        "
      ]
     },
     "execution_count": 7,
     "metadata": {},
     "output_type": "execute_result"
    }
   ],
   "source": [
    "img2 = reshape(x1, (L, L))'\n",
    "Gray.(img2)"
   ]
  },
  {
   "cell_type": "code",
   "execution_count": 8,
   "metadata": {},
   "outputs": [
    {
     "data": {
      "image/png": "[encoded data removed]"
     },
     "execution_count": 8,
     "metadata": {},
     "output_type": "execute_result"
    }
   ],
   "source": [
    "f = adv.adv_iterative_gradient_sign\n",
    "success_rates = []\n",
    "for i in 1:20\n",
    "    append!(success_rates, adv.targetted_test(model, examples; alg=f))\n",
    "end\n",
    "histogram(success_rates, fmt=:png)"
   ]
  },
  {
   "cell_type": "code",
   "execution_count": 13,
   "metadata": {},
   "outputs": [
    {
     "data": {
      "text/plain": [
       "process_binary_data (generic function with 1 method)"
      ]
     },
     "execution_count": 13,
     "metadata": {},
     "output_type": "execute_result"
    }
   ],
   "source": [
    "function remove_missing!(df)\n",
    "    for col in names(df)\n",
    "        df[col] = Missings.coalesce.(df[col], 0)\n",
    "    end\n",
    "end\n",
    "\n",
    "function process_binary_data(data, train_rat)\n",
    "    \"\"\"\n",
    "    Takes in data in the form of a DataFrame with a :class\n",
    "    column containing either 1 or 2 (binary classification)\n",
    "    Returns a training set, a testing set, and all entries\n",
    "    in class 2 (for use in permuting them adversarially)\n",
    "    \"\"\"\n",
    "    suspicious = data[data[:class] .== 2, :]\n",
    "    benign = data[data[:class] .== 1, :]\n",
    "\n",
    "    train_benign_count = Int(round(size(benign)[1]*train_rat))\n",
    "    train_susp_count = Int(round(size(suspicious)[1]*train_rat))\n",
    "\n",
    "    s_train_inds = sample(1:size(suspicious)[1], train_susp_count, replace=false)\n",
    "    b_train_inds = sample(1:size(benign)[1], train_benign_count, replace=false)\n",
    "    s_test_inds = setdiff(1:size(suspicious)[1], s_train_inds)\n",
    "    b_test_inds = setdiff(1:size(benign)[1], b_train_inds)\n",
    "\n",
    "    s_train = suspicious[s_train_inds, :]\n",
    "    s_test = suspicious[s_test_inds, :]\n",
    "    b_train = benign[b_train_inds, :]\n",
    "    b_test = benign[b_test_inds, :]\n",
    "\n",
    "    trn = [s_train; b_train]\n",
    "    remove_missing!(trn)\n",
    "    tst = [s_test; b_test]\n",
    "    remove_missing!(tst)\n",
    "\n",
    "    shuffle = sample(1:size(trn)[1], size(trn)[1], replace=false)\n",
    "    dtrn = Matrix(trn[shuffle, :])'\n",
    "    trnx, trny = dtrn[1:end - 1, :], dtrn[end, :]\n",
    "    # trny = hcat(trny, -trny .+ 1)'\n",
    "    dtrn = minibatch(trnx, trny, 100)\n",
    "    shuffle = sample(1:size(tst)[1], size(tst)[1], replace=false)\n",
    "    dtst = Matrix(tst[shuffle, :])'\n",
    "    tstx, tsty = dtst[1:end - 1, :], dtst[end, :]\n",
    "    # tsty = hcat(tsty, -tsty .+ 1)'\n",
    "    dtst = minibatch(tstx, tsty, 100)\n",
    "\n",
    "    remove_missing!(suspicious)\n",
    "    susp = Matrix(suspicious)'[1:end-1, :]\n",
    "    return dtrn, dtst, susp\n",
    "end"
   ]
  },
  {
   "cell_type": "code",
   "execution_count": 14,
   "metadata": {},
   "outputs": [
    {
     "data": {
      "text/plain": [
       "(Data([1 0 … 1 1; 1 0 … 1 1; … ; 0 0 … 0 0; 0 0 … 0 0], [1 2 … 1 1], 100, 2659, false, 1:2659, false, (215, 2659), (2659,), Array{Int64,2}, Array{Int64,1}), Data([0 1 … 1 0; 0 1 … 1 0; … ; 0 0 … 0 0; 0 0 … 0 0], [2 1 … 1 1], 100, 1140, false, 1:1140, false, (215, 1140), (1140,), Array{Int64,2}, Array{Int64,1}), [0 0 … 0 0; 0 0 … 0 0; … ; 0 0 … 0 0; 0 0 … 0 0])"
      ]
     },
     "execution_count": 14,
     "metadata": {},
     "output_type": "execute_result"
    }
   ],
   "source": [
    "data = CSV.read(\"malgenome-215-dataset-1260malware-2539-benign.csv\")\n",
    "bin = Dict(\"B\" => 1, \"S\" => 2)\n",
    "data[:class] = map(elt->bin[elt], data[:class])\n",
    "\n",
    "train, test, susp = process_binary_data(data, 0.7)"
   ]
  },
  {
   "cell_type": "code",
   "execution_count": null,
   "metadata": {},
   "outputs": [],
   "source": [
    "mw_model = adv.MLP(215, 64, 2)\n",
    "println(adv.accuracy(mw_model, test))\n",
    "mlp = adv.trainresults(mw_model, train)\n",
    "println(adv.accuracy(mw_model, test))"
   ]
  },
  {
   "cell_type": "code",
   "execution_count": null,
   "metadata": {},
   "outputs": [],
   "source": [
    "f = adv.near_search\n",
    "@time adv.targetted_test(new_model, examples; alg=f)"
   ]
  },
  {
   "cell_type": "code",
   "execution_count": null,
   "metadata": {},
   "outputs": [],
   "source": []
  }
 ],
 "metadata": {
  "kernelspec": {
   "display_name": "Julia 1.0.0",
   "language": "julia",
   "name": "julia-1.0"
  },
  "language_info": {
   "file_extension": ".jl",
   "mimetype": "application/julia",
   "name": "julia",
   "version": "1.0.0"
  }
 },
 "nbformat": 4,
 "nbformat_minor": 2
}
